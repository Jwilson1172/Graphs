{
 "cells": [
  {
   "cell_type": "code",
   "execution_count": 5,
   "metadata": {},
   "outputs": [],
   "source": [
    "from projects.social.social import SocialGraph, User\n"
   ]
  },
  {
   "cell_type": "code",
   "execution_count": 2,
   "metadata": {
    "tags": []
   },
   "outputs": [
    {
     "output_type": "stream",
     "name": "stdout",
     "text": "README.md  social.py  testing.ipynb\n"
    }
   ],
   "source": [
    "!ls"
   ]
  },
  {
   "cell_type": "code",
   "execution_count": 3,
   "metadata": {
    "tags": []
   },
   "outputs": [
    {
     "output_type": "stream",
     "name": "stdout",
     "text": "/mnt/c/Users/joe/OneDrive/Desktop/SCHOOL/Graphs\n"
    }
   ],
   "source": [
    "%cd ../../"
   ]
  },
  {
   "cell_type": "code",
   "execution_count": 4,
   "metadata": {
    "tags": []
   },
   "outputs": [
    {
     "output_type": "stream",
     "name": "stdout",
     "text": "FAQs.md  README.md  ignore.ipynb  objectives  projects\n"
    }
   ],
   "source": [
    "!ls"
   ]
  },
  {
   "cell_type": "code",
   "execution_count": 16,
   "metadata": {},
   "outputs": [],
   "source": [
    "G = SocialGraph()\n",
    "G.add_user(1)\n",
    "G.add_user(2)\n"
   ]
  },
  {
   "cell_type": "code",
   "execution_count": 18,
   "metadata": {},
   "outputs": [],
   "source": [
    "G.add_friendship(1, 2)"
   ]
  },
  {
   "cell_type": "code",
   "execution_count": 9,
   "metadata": {},
   "outputs": [],
   "source": [
    "G.populate_graph(20, 3)"
   ]
  },
  {
   "cell_type": "code",
   "execution_count": 13,
   "metadata": {
    "tags": []
   },
   "outputs": [
    {
     "output_type": "stream",
     "name": "stdout",
     "text": "<projects.social.social.SocialGraph object at 0x7f8736282710>\n"
    }
   ],
   "source": [
    "# thats not very usefull >.<\n",
    "print(G.__str__())"
   ]
  },
  {
   "cell_type": "code",
   "execution_count": 19,
   "metadata": {},
   "outputs": [
    {
     "output_type": "execute_result",
     "data": {
      "text/plain": "{1: <projects.social.social.User at 0x7f8736963d10>,\n 2: <projects.social.social.User at 0x7f8736963fd0>}"
     },
     "metadata": {},
     "execution_count": 19
    }
   ],
   "source": [
    "G.users"
   ]
  },
  {
   "cell_type": "code",
   "execution_count": 20,
   "metadata": {},
   "outputs": [
    {
     "output_type": "execute_result",
     "data": {
      "text/plain": "{1: {2}, 2: {1}}"
     },
     "metadata": {},
     "execution_count": 20
    }
   ],
   "source": [
    "G.friendships"
   ]
  },
  {
   "cell_type": "markdown",
   "metadata": {},
   "source": [
    "# implemening the populate_graph method"
   ]
  },
  {
   "cell_type": "code",
   "execution_count": 21,
   "metadata": {},
   "outputs": [],
   "source": [
    "from numpy.random import choice, seed\n",
    "seed(42)\n",
    "\n",
    "def populate_graph(n_users, n_friends):\n",
    "# going to need to generate n_user number of users and then\n",
    "# for each user add relations for n_friend\n",
    "    # reset the graph to blank\n",
    "    last_id = 0\n",
    "    users = {}\n",
    "    friendships = {}\n",
    "\n",
    "    for i in range(n_users):\n",
    "        users[i] = User(i)\n",
    "    # for each user in users \n",
    "    for user in users:\n",
    "        # for the number of friends in n_friends chose a random connection\n",
    "        for iter in range(n_friends):\n",
    "            rnd_friend = choice(users)\n",
    "            # guessing that the result of a random choice might be self\n",
    "            # also need to make sure that im not pointing back to the same node\n",
    "            if (last_id == rnd_friend) or (user == rnd_friend)\n",
    "                friendships[user] +=  \n",
    "     "
   ]
  },
  {
   "cell_type": "code",
   "execution_count": 23,
   "metadata": {},
   "outputs": [],
   "source": [
    "populate_graph(20, 3)"
   ]
  },
  {
   "cell_type": "code",
   "execution_count": null,
   "metadata": {},
   "outputs": [],
   "source": []
  }
 ],
 "metadata": {
  "language_info": {
   "codemirror_mode": {
    "name": "ipython",
    "version": 3
   },
   "file_extension": ".py",
   "mimetype": "text/x-python",
   "name": "python",
   "nbconvert_exporter": "python",
   "pygments_lexer": "ipython3",
   "version": 3
  },
  "orig_nbformat": 2,
  "kernelspec": {
   "name": "python_defaultSpec_1594843057424",
   "display_name": "Python 3.7.6 64-bit"
  }
 },
 "nbformat": 4,
 "nbformat_minor": 2
}