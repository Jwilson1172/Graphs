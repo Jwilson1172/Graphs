{
 "metadata": {
  "language_info": {
   "codemirror_mode": {
    "name": "ipython",
    "version": 3
   },
   "file_extension": ".py",
   "mimetype": "text/x-python",
   "name": "python",
   "nbconvert_exporter": "python",
   "pygments_lexer": "ipython3",
   "version": 3
  },
  "orig_nbformat": 2,
  "kernelspec": {
   "name": "python_defaultSpec_1597098111894",
   "display_name": "Python 3.7.6 64-bit ('ds-base': conda)"
  }
 },
 "nbformat": 4,
 "nbformat_minor": 2,
 "cells": [
  {
   "cell_type": "code",
   "execution_count": null,
   "metadata": {},
   "outputs": [],
   "source": [
    "Given an object/dictionary with keys and values that consist of both strings and integers, design an algorithm to calculate and return the sum of all of the numeric values.\n",
    "For example, given the following object/dictionary as input:\n",
    "{\n",
    "  \"cat\": \"bob\",\n",
    "  \"dog\": 23,\n",
    "  19: 18,\n",
    "  90: \"fish\"\n",
    "}\n",
    "Your algorithm should return 41, the sum of the values 23 and 18.\n",
    "You may use whatever programming language you'd like.\n",
    "Verbalize your thought process as much as possible before writing any code. Run through the UPER problem solving framework while going through your thought process."
   ]
  },
  {
   "cell_type": "code",
   "execution_count": 3,
   "metadata": {},
   "outputs": [],
   "source": [
    "d = {\n",
    "  \"cat\": \"bob\",\n",
    "  \"dog\": 23,\n",
    "  19: 18,\n",
    "  90: \"fish\"\n",
    "}"
   ]
  },
  {
   "cell_type": "code",
   "execution_count": 8,
   "metadata": {},
   "outputs": [
    {
     "output_type": "execute_result",
     "data": {
      "text/plain": "41"
     },
     "metadata": {},
     "execution_count": 8
    }
   ],
   "source": [
    "sum = 0\n",
    "#{k: sum += v for k,v in d.items() if isinstance(v, int)}\n",
    "\n",
    "for k,v in d.items():\n",
    "    if isinstance(v,int):\n",
    "        sum += v\n",
    "    else:\n",
    "        pass\n",
    "\n",
    "sum"
   ]
  },
  {
   "cell_type": "markdown",
   "metadata": {},
   "source": [
    "## feedback:\n",
    " - using a dictionary comprehension is unnessisary for solving the problem\n",
    " - using dict.items() is also unnessisary since we are never doing anything with the key\n",
    "\n",
    "\n",
    " reasoning for using dictionary comprehension is that its easier for me personally to use that syntax.\n",
    " i like the [EXPRESSION][ITER][CONDITION] that comprehension syntax provides.\n"
   ]
  }
 ]
}